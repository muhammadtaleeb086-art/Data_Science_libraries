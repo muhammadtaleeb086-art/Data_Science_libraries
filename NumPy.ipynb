{
 "cells": [
  {
   "cell_type": "markdown",
   "id": "1bac21e2",
   "metadata": {},
   "source": [
    " NumPy Introduction :\n",
    " NumPy is a powerful library for numerical computing in Python. It provides support for arrays "
   ]
  },
  {
   "cell_type": "code",
   "execution_count": 31,
   "id": "0ecdf546",
   "metadata": {},
   "outputs": [
    {
     "name": "stdout",
     "output_type": "stream",
     "text": [
      "[1 2 3 4 5]\n"
     ]
    }
   ],
   "source": [
    "#Example :\n",
    "import numpy \n",
    "\n",
    "arr = numpy.array([1, 2, 3, 4, 5])\n",
    "print(arr)"
   ]
  },
  {
   "cell_type": "code",
   "execution_count": 32,
   "id": "65df1d82",
   "metadata": {},
   "outputs": [
    {
     "name": "stdout",
     "output_type": "stream",
     "text": [
      "[1 2 3 4 5]\n"
     ]
    }
   ],
   "source": [
    "#Example:\n",
    "import numpy as np\n",
    "arr = np.array([1, 2, 3, 4, 5])\n",
    "print(arr)"
   ]
  },
  {
   "cell_type": "code",
   "execution_count": 33,
   "id": "e70a360d",
   "metadata": {},
   "outputs": [
    {
     "name": "stdout",
     "output_type": "stream",
     "text": [
      "2.3.0\n"
     ]
    }
   ],
   "source": [
    "#example :\n",
    "import numpy as np\n",
    "print(np.__version__)"
   ]
  },
  {
   "cell_type": "markdown",
   "id": "a8d8eab3",
   "metadata": {},
   "source": [
    "NumPy Arrays :\n",
    "NumPy arrays are the core data structure of the NumPy library. They are similar to Python lists but offer better performance and more functionality for numerical operations. "
   ]
  },
  {
   "cell_type": "code",
   "execution_count": 34,
   "id": "826448b5",
   "metadata": {},
   "outputs": [
    {
     "name": "stdout",
     "output_type": "stream",
     "text": [
      "[ 1  2  3  4  5  6  7  8  9 10]\n",
      "<class 'numpy.ndarray'>\n"
     ]
    }
   ],
   "source": [
    "#create a numpy array ndarray object \n",
    "\n",
    "import numpy as np\n",
    "arr = np.array([1,2,3,4,5,6,7,8,9,10])\n",
    "print(arr)\n",
    "print(type(arr))"
   ]
  },
  {
   "cell_type": "markdown",
   "id": "e8a2b3c8",
   "metadata": {},
   "source": [
    "Dimensions in Arrays :\n",
    "A NumPy array can have multiple dimensions, which allows for more complex data structures."
   ]
  },
  {
   "cell_type": "markdown",
   "id": "3c07bbba",
   "metadata": {},
   "source": [
    "0-D Arrays: 0-D arrays, or Scalars, are the elements in an array. Each value in an array is a 0-D array.\n",
    "\n"
   ]
  },
  {
   "cell_type": "code",
   "execution_count": 35,
   "id": "e971c284",
   "metadata": {},
   "outputs": [
    {
     "name": "stdout",
     "output_type": "stream",
     "text": [
      "42\n",
      "0\n"
     ]
    }
   ],
   "source": [
    "#example :\n",
    "import numpy as np\n",
    "arr = np.array(42)\n",
    "print(arr)\n",
    "print(arr.ndim) #ndim is an attribute that returns the number of dimensions of the array."
   ]
  },
  {
   "cell_type": "markdown",
   "id": "19e45543",
   "metadata": {},
   "source": [
    "1-D Arrays: 1-D arrays are like a list of values. They have one dimension."
   ]
  },
  {
   "cell_type": "code",
   "execution_count": 36,
   "id": "e5b3169b",
   "metadata": {},
   "outputs": [
    {
     "name": "stdout",
     "output_type": "stream",
     "text": [
      "[1 2 3 4 5]\n",
      "1\n"
     ]
    }
   ],
   "source": [
    "#example :\n",
    "import numpy as np \n",
    "arr_1d = np.array([1,2,3,4,5])\n",
    "print(arr_1d)\n",
    "print(arr_1d.ndim)"
   ]
  },
  {
   "cell_type": "markdown",
   "id": "0dcb8cc9",
   "metadata": {},
   "source": [
    "2-D Arrays: An array that has 1-D arrays as its elements is called a 2-D array. These are often used to represent matrix or 2nd order tensors . "
   ]
  },
  {
   "cell_type": "code",
   "execution_count": 37,
   "id": "93056f55",
   "metadata": {},
   "outputs": [
    {
     "name": "stdout",
     "output_type": "stream",
     "text": [
      "[[1 2 3]\n",
      " [4 5 6]]\n",
      "2\n"
     ]
    }
   ],
   "source": [
    "#example : Create a 2-D array containing two arrays with the values 1,2,3 and 4,5,6.\n",
    "import numpy as np \n",
    "arr_2d = np.array([[1,2,3],[4,5,6]])\n",
    "print(arr_2d)\n",
    "print(arr_2d.ndim)"
   ]
  },
  {
   "cell_type": "markdown",
   "id": "cdba2c6e",
   "metadata": {},
   "source": [
    "3-D Arrays: An array that has 2-D arrays as its elements is called a 3-D array. These are often used to represent a cube or 3rd order tensors."
   ]
  },
  {
   "cell_type": "code",
   "execution_count": 38,
   "id": "7c02031c",
   "metadata": {},
   "outputs": [
    {
     "name": "stdout",
     "output_type": "stream",
     "text": [
      "[[[ 1  2  3]\n",
      "  [ 4  5  6]]\n",
      "\n",
      " [[ 7  8  9]\n",
      "  [10 11 12]]]\n"
     ]
    }
   ],
   "source": [
    "#example : Create a 3-D array containing two 2-D arrays.\n",
    "import numpy as np\n",
    "arr_3d = np.array([[[1,2,3],[4,5,6]],[[7,8,9],[10,11,12]]])\n",
    "print(arr_3d)"
   ]
  },
  {
   "cell_type": "markdown",
   "id": "bf47b283",
   "metadata": {},
   "source": [
    "Check Number of Dimensions?"
   ]
  },
  {
   "cell_type": "markdown",
   "id": "9debb0c4",
   "metadata": {},
   "source": [
    "NumPy Arrays provides the ndim attribute that returns an integer that tells us how many dimensions the array have."
   ]
  },
  {
   "cell_type": "code",
   "execution_count": 39,
   "id": "10a87378",
   "metadata": {},
   "outputs": [
    {
     "name": "stdout",
     "output_type": "stream",
     "text": [
      "0\n",
      "1\n",
      "2\n",
      "3\n"
     ]
    }
   ],
   "source": [
    "import numpy as np\n",
    "\n",
    "a = np.array(42)\n",
    "b = np.array([1, 2, 3, 4, 5])\n",
    "c = np.array([[1, 2, 3], [4, 5, 6]])\n",
    "d = np.array([[[1, 2, 3], [4, 5, 6]], [[1, 2, 3], [4, 5, 6]]])\n",
    "\n",
    "print(a.ndim)\n",
    "print(b.ndim)\n",
    "print(c.ndim)\n",
    "print(d.ndim)"
   ]
  },
  {
   "cell_type": "markdown",
   "id": "3cf9ecf6",
   "metadata": {},
   "source": [
    "Asssigment :"
   ]
  },
  {
   "cell_type": "code",
   "execution_count": 40,
   "id": "9d289cf6",
   "metadata": {},
   "outputs": [
    {
     "name": "stdout",
     "output_type": "stream",
     "text": [
      "25\n"
     ]
    }
   ],
   "source": [
    "#Create a 0D array with the value 25 and print its dimension.\n",
    "import numpy as np\n",
    "arr = np.array(25)\n",
    "print(arr)"
   ]
  },
  {
   "cell_type": "code",
   "execution_count": 41,
   "id": "e3604201",
   "metadata": {},
   "outputs": [
    {
     "name": "stdout",
     "output_type": "stream",
     "text": [
      "[10 20 30 40 50]\n"
     ]
    }
   ],
   "source": [
    "#Make a 1D array containing numbers from 10 to 50 with a step of 10.\n",
    "import numpy as np\n",
    "arr = np.array([10,20,30,40,50])\n",
    "print(arr)"
   ]
  },
  {
   "cell_type": "code",
   "execution_count": 42,
   "id": "f7ca7c62",
   "metadata": {},
   "outputs": [
    {
     "name": "stdout",
     "output_type": "stream",
     "text": [
      "15\n"
     ]
    }
   ],
   "source": [
    "#Print the 3rd element of a 1D array [5, 10, 15, 20, 25].\n",
    "import numpy as np\n",
    "arr = np.array([5,10,15,20,25])\n",
    "print(arr[2])"
   ]
  },
  {
   "cell_type": "code",
   "execution_count": 43,
   "id": "b94e8d94",
   "metadata": {},
   "outputs": [
    {
     "name": "stdout",
     "output_type": "stream",
     "text": [
      "[[6 3 8]\n",
      " [2 2 7]]\n"
     ]
    }
   ],
   "source": [
    "#Create a 2D array of shape (2,3) with random integers between 1 and 9.\n",
    "import numpy as np\n",
    "arr = np.random.randint(1,10,(2,3))\n",
    "print(arr)"
   ]
  },
  {
   "cell_type": "code",
   "execution_count": 44,
   "id": "1ab8dfee",
   "metadata": {},
   "outputs": [
    {
     "name": "stdout",
     "output_type": "stream",
     "text": [
      "4\n"
     ]
    }
   ],
   "source": [
    "#Access the element in the 2nd row, 1st column of that 2D array\n",
    "import numpy as np\n",
    "arr = np.array([[1,2,3],[4,5,6]])\n",
    "print(arr[1,0])"
   ]
  },
  {
   "cell_type": "code",
   "execution_count": 45,
   "id": "b35d9e66",
   "metadata": {},
   "outputs": [
    {
     "name": "stdout",
     "output_type": "stream",
     "text": [
      "(2, 3)\n",
      "2\n"
     ]
    }
   ],
   "source": [
    "#Find the shape and number of dimensions of this array:np.array([[1,2,3],[4,5,6]])\n",
    "import numpy as np\n",
    "arr = np.array([[1,2,3],[4,5,6]])\n",
    "print(arr.shape)\n",
    "print(arr.ndim) "
   ]
  },
  {
   "cell_type": "code",
   "execution_count": 46,
   "id": "aa96b858",
   "metadata": {},
   "outputs": [
    {
     "name": "stdout",
     "output_type": "stream",
     "text": [
      "[[[ 0  1  2]\n",
      "  [ 3  4  5]]\n",
      "\n",
      " [[ 6  7  8]\n",
      "  [ 9 10 11]]]\n"
     ]
    }
   ],
   "source": [
    "#Create a 3D array using np.arange(12).reshape(2,2,3) and print it.\n",
    "import numpy as np \n",
    "arr = np.arange(12).reshape(2,2,3)\n",
    "print(arr)"
   ]
  },
  {
   "cell_type": "code",
   "execution_count": 47,
   "id": "5bd81854",
   "metadata": {},
   "outputs": [
    {
     "name": "stdout",
     "output_type": "stream",
     "text": [
      "8\n",
      "3\n"
     ]
    }
   ],
   "source": [
    "#Access the element in block 2, row 1, column 3 of that 3D array.\n",
    "import numpy as np\n",
    "arr = np.array([[[0,1,2],[3,4,5]],[[6,7,8],[9,10,11]]])\n",
    "print(arr[1,0,2])\n",
    "print(arr.ndim)"
   ]
  },
  {
   "cell_type": "code",
   "execution_count": 48,
   "id": "8ae60fa9",
   "metadata": {},
   "outputs": [
    {
     "name": "stdout",
     "output_type": "stream",
     "text": [
      "12\n"
     ]
    }
   ],
   "source": [
    "#Find the toal number of elements in the 3d array.\n",
    "import numpy as np\n",
    "arr = np.arange(12).reshape(2,2,3)\n",
    "arr = np.array([[[0,1,2],[3,4,5]],[[6,7,8],[9,10,11]]])\n",
    "print(arr.size)"
   ]
  },
  {
   "cell_type": "code",
   "execution_count": 49,
   "id": "90e4ed4f",
   "metadata": {},
   "outputs": [
    {
     "name": "stdout",
     "output_type": "stream",
     "text": [
      "[ 0  1  2  3  4  5  6  7  8  9 10 11]\n"
     ]
    }
   ],
   "source": [
    "#Flatten the 3D array into 1D using .ravel() and print the result.\n",
    "import numpy as np\n",
    "arr = np.array([[[0,1,2],[3,4,5]],[[6,7,8],[9,10,11]]])\n",
    "flat_arr = arr.ravel()\n",
    "print(flat_arr)"
   ]
  },
  {
   "cell_type": "markdown",
   "id": "7a6e46f3",
   "metadata": {},
   "source": [
    "NumPy Array Indexing:\n",
    "Access Array Elements: Array indexing is the same as accessing an array element.\n",
    "\n",
    "You can access an array element by referring to its index number.\n",
    "\n",
    "The indexes in NumPy arrays start with 0, meaning that the first element has index 0, and the second has index 1 etc."
   ]
  },
  {
   "cell_type": "code",
   "execution_count": 50,
   "id": "cc495b29",
   "metadata": {},
   "outputs": [
    {
     "name": "stdout",
     "output_type": "stream",
     "text": [
      "1\n",
      "3\n"
     ]
    }
   ],
   "source": [
    "#example :\n",
    "import numpy as np\n",
    "arr = np.array([1,2,3,4])\n",
    "print(arr[0])  # Accessing the first element\n",
    "print(arr[2])  # Accessing the third element"
   ]
  },
  {
   "cell_type": "code",
   "execution_count": 51,
   "id": "3f68f64c",
   "metadata": {},
   "outputs": [
    {
     "name": "stdout",
     "output_type": "stream",
     "text": [
      "6\n",
      "-4\n",
      "8\n",
      "1.5\n"
     ]
    }
   ],
   "source": [
    "#example :\n",
    "import numpy as np\n",
    "arr = np.array([1,2,3,4,5,6,7,8,9,10])\n",
    "print(arr[0]+arr[4])  # Accessing and adding the first and fifth elements\n",
    "print(arr[2]-arr[6])  # Accessing and subtracting the third and seventh elements\n",
    "print(arr[1]*arr[3])  # Accessing and multiplying the second and fourth elements\n",
    "print(arr[8]/arr[5])  # Accessing and dividing the ninth and sixth elements\n"
   ]
  },
  {
   "cell_type": "markdown",
   "id": "051942f4",
   "metadata": {},
   "source": [
    "Access 2-D Arrays :\n",
    "To access elements from 2-D arrays we can use comma separated integers representing the dimension and the index of the element.\n",
    "Think of 2-D arrays like a table with rows and columns, where the dimension represents the row and the index represents the column."
   ]
  },
  {
   "cell_type": "code",
   "execution_count": 52,
   "id": "bbd0fc64",
   "metadata": {},
   "outputs": [
    {
     "name": "stdout",
     "output_type": "stream",
     "text": [
      "2nd element on 1st row: 2\n",
      "5th element on 2nd row: 10\n"
     ]
    }
   ],
   "source": [
    "#example :\n",
    "import numpy as np\n",
    "arr = np.array([[1,2,3,4,5], [6,7,8,9,10]])\n",
    "print(\"2nd element on 1st row:\", arr[0,1])  # Accessing the second element of the first row\n",
    "print(\"5th element on 2nd row:\", arr[1,4])  # Accessing the fifth element of the second row"
   ]
  },
  {
   "cell_type": "markdown",
   "id": "8b20b1ff",
   "metadata": {},
   "source": [
    "Access 3-D Arrays :\n",
    "To access elements from 3-D arrays we can use comma separated integers representing the dimensions and the index of the element."
   ]
  },
  {
   "cell_type": "code",
   "execution_count": 53,
   "id": "83a5d43d",
   "metadata": {},
   "outputs": [
    {
     "name": "stdout",
     "output_type": "stream",
     "text": [
      "2nd element of 1st array of 1st dimension: 2\n",
      "3rd element of 2nd array of 2nd dimension: 12\n"
     ]
    }
   ],
   "source": [
    "#example :\n",
    "import numpy as np\n",
    "arr = np.array([[[1,2,3],[4,5,6]],[[7,8,9],[10,11,12]]])\n",
    "print(\"2nd element of 1st array of 1st dimension:\", arr[0,0,1])  # Accessing the second element of the first array in the first dimension\n",
    "print(\"3rd element of 2nd array of 2nd dimension:\", arr[1,1,2])  # Accessing the third element of the second array in the second dimension"
   ]
  },
  {
   "cell_type": "markdown",
   "id": "4c125ae5",
   "metadata": {},
   "source": [
    "Negative Indexing:Use negative indexing to access an array from the end."
   ]
  },
  {
   "cell_type": "code",
   "execution_count": 54,
   "id": "ee237f05",
   "metadata": {},
   "outputs": [
    {
     "name": "stdout",
     "output_type": "stream",
     "text": [
      "Last element: 10\n",
      "2nd last element: 4\n"
     ]
    }
   ],
   "source": [
    "#example :\n",
    "import numpy as np\n",
    "arr = np.array([[1,2,3,4,5],[6,7,8,9,10]])\n",
    "print(\"Last element:\" , arr[1,-1])  # Accessing the last element of the second row\n",
    "print(\"2nd last element:\", arr[0,-2])  # Accessing the second last element of the first row"
   ]
  },
  {
   "cell_type": "markdown",
   "id": "22a5a4be",
   "metadata": {},
   "source": [
    "Assignment:"
   ]
  },
  {
   "cell_type": "code",
   "execution_count": 55,
   "id": "6b51fd65",
   "metadata": {},
   "outputs": [
    {
     "name": "stdout",
     "output_type": "stream",
     "text": [
      "30\n"
     ]
    }
   ],
   "source": [
    "#Create a NumPy array arr = np.array([10, 20, 30, 40, 50]).Q: Access the 3rd element.\n",
    "import numpy as np\n",
    "arr = np.array([10,20,30,40,50])\n",
    "print(arr[2])"
   ]
  },
  {
   "cell_type": "code",
   "execution_count": 56,
   "id": "8dbf3513",
   "metadata": {},
   "outputs": [
    {
     "name": "stdout",
     "output_type": "stream",
     "text": [
      "10\n",
      "50\n"
     ]
    }
   ],
   "source": [
    "#Print the first and last elements of the same array. \n",
    "import numpy as np \n",
    "arr = np.array([10,20,30,40,50])\n",
    "print(arr[0])\n",
    "print(arr[-1])"
   ]
  },
  {
   "cell_type": "code",
   "execution_count": 57,
   "id": "7e9edc09",
   "metadata": {},
   "outputs": [
    {
     "name": "stdout",
     "output_type": "stream",
     "text": [
      "[ 10 200  30  40  50]\n"
     ]
    }
   ],
   "source": [
    "#Replace the second element (20) with 200.\n",
    "import numpy as np\n",
    "arr = np.array([10,20,30,40,50])\n",
    "arr[1] = 200\n",
    "print(arr)"
   ]
  },
  {
   "cell_type": "code",
   "execution_count": 58,
   "id": "2714886e",
   "metadata": {},
   "outputs": [
    {
     "name": "stdout",
     "output_type": "stream",
     "text": [
      "[20 30 40]\n"
     ]
    }
   ],
   "source": [
    "#Slice the array to get the elements [20, 30, 40].\n",
    "import numpy as np\n",
    "arr = np.array([10,20,30,40,50])\n",
    "sliced_arr = arr[1:4]\n",
    "print(sliced_arr)"
   ]
  },
  {
   "cell_type": "code",
   "execution_count": 59,
   "id": "f9f4b6bd",
   "metadata": {},
   "outputs": [
    {
     "name": "stdout",
     "output_type": "stream",
     "text": [
      "6\n"
     ]
    }
   ],
   "source": [
    "#Create a 2D array.Print the element in 2nd row, 3rd element.\n",
    "import numpy as np \n",
    "arr_2d = np.array([[1,2,3],[4,5,6],[7,8,9]])\n",
    "print(arr_2d[1,2])"
   ]
  },
  {
   "cell_type": "code",
   "execution_count": 60,
   "id": "7b74618d",
   "metadata": {},
   "outputs": [
    {
     "name": "stdout",
     "output_type": "stream",
     "text": [
      "[1 2 3]\n"
     ]
    }
   ],
   "source": [
    "#Extract the first row.\n",
    "import numpy as np\n",
    "arr_2d = np.array([[1,2,3],[4,5,6],[7,8,9]])\n",
    "first_row = arr_2d[0,:] \n",
    "print(first_row)"
   ]
  },
  {
   "cell_type": "markdown",
   "id": "05b32310",
   "metadata": {},
   "source": [
    "Slicing Arrays in NumPy :\n",
    "Slicing in NumPy is similar to slicing in Python lists. You can specify a start index, an end index, and a step.\n",
    "\n",
    "We pass slice instead of index like this: [start:end].\n",
    "\n",
    "We can also define the step, like this: [start:end:step].\n",
    "\n",
    "If we don't pass start its considered 0.\n",
    "If we don't pass end its considered length of array in that dimension.\n",
    "If we don't pass step its considered 1."
   ]
  },
  {
   "cell_type": "code",
   "execution_count": 61,
   "id": "9bf91d4b",
   "metadata": {},
   "outputs": [
    {
     "name": "stdout",
     "output_type": "stream",
     "text": [
      "[2 3 4 5]\n"
     ]
    }
   ],
   "source": [
    "#example : Slice elements from index 1 to index 5 from the following array:\n",
    "import numpy as np\n",
    "arr = np.array([1, 2, 3, 4, 5, 6, 7])\n",
    "print(arr[1:5])"
   ]
  },
  {
   "cell_type": "code",
   "execution_count": 62,
   "id": "f8232e1b",
   "metadata": {},
   "outputs": [
    {
     "name": "stdout",
     "output_type": "stream",
     "text": [
      "[5 6 7 8 9]\n"
     ]
    }
   ],
   "source": [
    "#example :Slice elements from index 4 to the end of the array\n",
    "import numpy as np \n",
    "arr = np.array([1,2,3,4,5,6,7,8,9])\n",
    "print(arr[4:])"
   ]
  },
  {
   "cell_type": "code",
   "execution_count": 63,
   "id": "1c9bace2",
   "metadata": {},
   "outputs": [
    {
     "name": "stdout",
     "output_type": "stream",
     "text": [
      "[1 2 3 4]\n"
     ]
    }
   ],
   "source": [
    "#example :Slice elements from the beginning to index 4 (not included)\n",
    "import numpy as np\n",
    "arr = np.array([1,2,3,4,5,6,7,8,9])\n",
    "print(arr[:4])"
   ]
  }
 ],
 "metadata": {
  "kernelspec": {
   "display_name": "Python 3",
   "language": "python",
   "name": "python3"
  },
  "language_info": {
   "codemirror_mode": {
    "name": "ipython",
    "version": 3
   },
   "file_extension": ".py",
   "mimetype": "text/x-python",
   "name": "python",
   "nbconvert_exporter": "python",
   "pygments_lexer": "ipython3",
   "version": "3.13.5"
  }
 },
 "nbformat": 4,
 "nbformat_minor": 5
}
